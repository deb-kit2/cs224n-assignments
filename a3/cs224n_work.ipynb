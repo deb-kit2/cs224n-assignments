{
  "nbformat": 4,
  "nbformat_minor": 0,
  "metadata": {
    "colab": {
      "name": "cs224n_work.ipynb",
      "provenance": [],
      "collapsed_sections": [
        "1nnMbLdBCQCy"
      ],
      "authorship_tag": "ABX9TyMZ7tqa+AmXRSRiBWKur8/r",
      "include_colab_link": true
    },
    "kernelspec": {
      "display_name": "Python 3",
      "name": "python3"
    }
  },
  "cells": [
    {
      "cell_type": "markdown",
      "metadata": {
        "id": "view-in-github",
        "colab_type": "text"
      },
      "source": [
        "<a href=\"https://colab.research.google.com/github/deb-kit2/cs224n-assignments/blob/main/a3/cs224n_work.ipynb\" target=\"_parent\"><img src=\"https://colab.research.google.com/assets/colab-badge.svg\" alt=\"Open In Colab\"/></a>"
      ]
    },
    {
      "cell_type": "code",
      "metadata": {
        "colab": {
          "base_uri": "https://localhost:8080/"
        },
        "id": "1oBnlvHorrbw",
        "outputId": "a9ab62e4-4ccd-4945-88cc-30b502293549"
      },
      "source": [
        "from google.colab import drive, output\n",
        "drive.mount(\"/content/drive\")\n",
        "\n",
        "import os\n",
        "os.chdir(\"/content/drive/MyDrive/Colab Notebooks/cs224n/a3/\")"
      ],
      "execution_count": null,
      "outputs": [
        {
          "output_type": "stream",
          "text": [
            "Drive already mounted at /content/drive; to attempt to forcibly remount, call drive.mount(\"/content/drive\", force_remount=True).\n"
          ],
          "name": "stdout"
        }
      ]
    },
    {
      "cell_type": "code",
      "metadata": {
        "id": "udROI6tBk5yQ",
        "colab": {
          "base_uri": "https://localhost:8080/"
        },
        "outputId": "c159e705-037c-4bdb-b67e-50d3ae62391d"
      },
      "source": [
        "!python3 parser_transitions.py part_c"
      ],
      "execution_count": null,
      "outputs": [
        {
          "output_type": "stream",
          "text": [
            "SHIFT test passed!\n",
            "LEFT-ARC test passed!\n",
            "RIGHT-ARC test passed!\n",
            "parse test passed!\n"
          ],
          "name": "stdout"
        }
      ]
    },
    {
      "cell_type": "code",
      "metadata": {
        "id": "LS5Xzfv6wwg4",
        "colab": {
          "base_uri": "https://localhost:8080/"
        },
        "outputId": "7fca2141-93ad-4b10-be2d-85e9ea5d611e"
      },
      "source": [
        "!python3 parser_transitions.py part_d"
      ],
      "execution_count": null,
      "outputs": [
        {
          "output_type": "stream",
          "text": [
            "minibatch_parse test passed!\n"
          ],
          "name": "stdout"
        }
      ]
    },
    {
      "cell_type": "code",
      "metadata": {
        "id": "8Gy3ZQL8-UtQ",
        "colab": {
          "base_uri": "https://localhost:8080/"
        },
        "outputId": "2fa3f96a-3bfc-4e25-f4f3-4d50002ce631"
      },
      "source": [
        "!python3 parser_model.py -e"
      ],
      "execution_count": 29,
      "outputs": [
        {
          "output_type": "stream",
          "text": [
            "Embedding_lookup sanity check passes!\n"
          ],
          "name": "stdout"
        }
      ]
    },
    {
      "cell_type": "code",
      "metadata": {
        "colab": {
          "base_uri": "https://localhost:8080/"
        },
        "id": "F0XI2dAFLkko",
        "outputId": "daa8bad0-8e36-404d-c81f-bf9348cab6f7"
      },
      "source": [
        "!python3 parser_model.py -f"
      ],
      "execution_count": 30,
      "outputs": [
        {
          "output_type": "stream",
          "text": [
            "Forward sanity check passes!\n"
          ],
          "name": "stdout"
        }
      ]
    },
    {
      "cell_type": "code",
      "metadata": {
        "colab": {
          "base_uri": "https://localhost:8080/"
        },
        "id": "nJVQLmDcMAZN",
        "outputId": "32da4365-8354-41ea-e43d-303b98d4c60d"
      },
      "source": [
        "!python3 run.py"
      ],
      "execution_count": 31,
      "outputs": [
        {
          "output_type": "stream",
          "text": [
            "================================================================================\n",
            "INITIALIZING\n",
            "================================================================================\n",
            "Loading data...\n",
            "took 4.03 seconds\n",
            "Building parser...\n",
            "took 1.26 seconds\n",
            "Loading pretrained embeddings...\n",
            "took 4.29 seconds\n",
            "Vectorizing data...\n",
            "took 2.09 seconds\n",
            "Preprocessing training data...\n",
            "took 47.05 seconds\n",
            "took 0.01 seconds\n",
            "\n",
            "================================================================================\n",
            "TRAINING\n",
            "================================================================================\n",
            "/usr/local/lib/python3.7/dist-packages/torch/nn/_reduction.py:42: UserWarning: size_average and reduce args will be deprecated, please use reduction='mean' instead.\n",
            "  warnings.warn(warning.format(ret))\n",
            "Epoch 1 out of 10\n",
            "100% 1848/1848 [02:09<00:00, 14.24it/s]\n",
            "Average Train Loss: 0.18828948049350477\n",
            "Evaluating on dev set\n",
            "1445850it [00:00, 38669930.04it/s]\n",
            "- dev UAS: 83.85\n",
            "New best dev UAS! Saving model.\n",
            "\n",
            "Epoch 2 out of 10\n",
            "100% 1848/1848 [02:06<00:00, 14.62it/s]\n",
            "Average Train Loss: 0.11534235513168367\n",
            "Evaluating on dev set\n",
            "1445850it [00:00, 40010915.56it/s]\n",
            "- dev UAS: 85.64\n",
            "New best dev UAS! Saving model.\n",
            "\n",
            "Epoch 3 out of 10\n",
            "100% 1848/1848 [02:09<00:00, 14.27it/s]\n",
            "Average Train Loss: 0.10088476026229141\n",
            "Evaluating on dev set\n",
            "1445850it [00:00, 38499799.63it/s]\n",
            "- dev UAS: 87.04\n",
            "New best dev UAS! Saving model.\n",
            "\n",
            "Epoch 4 out of 10\n",
            "100% 1848/1848 [02:08<00:00, 14.38it/s]\n",
            "Average Train Loss: 0.09197603420906769\n",
            "Evaluating on dev set\n",
            "1445850it [00:00, 40448311.45it/s]\n",
            "- dev UAS: 87.54\n",
            "New best dev UAS! Saving model.\n",
            "\n",
            "Epoch 5 out of 10\n",
            "100% 1848/1848 [02:08<00:00, 14.37it/s]\n",
            "Average Train Loss: 0.08522866076076185\n",
            "Evaluating on dev set\n",
            "1445850it [00:00, 40667751.52it/s]\n",
            "- dev UAS: 87.98\n",
            "New best dev UAS! Saving model.\n",
            "\n",
            "Epoch 6 out of 10\n",
            "100% 1848/1848 [02:07<00:00, 14.48it/s]\n",
            "Average Train Loss: 0.08045884475789288\n",
            "Evaluating on dev set\n",
            "1445850it [00:00, 39930825.76it/s]\n",
            "- dev UAS: 88.21\n",
            "New best dev UAS! Saving model.\n",
            "\n",
            "Epoch 7 out of 10\n",
            "100% 1848/1848 [02:07<00:00, 14.49it/s]\n",
            "Average Train Loss: 0.07612762362917974\n",
            "Evaluating on dev set\n",
            "1445850it [00:00, 40095303.33it/s]\n",
            "- dev UAS: 88.20\n",
            "\n",
            "Epoch 8 out of 10\n",
            "100% 1848/1848 [02:08<00:00, 14.40it/s]\n",
            "Average Train Loss: 0.07245950859233544\n",
            "Evaluating on dev set\n",
            "1445850it [00:00, 40309847.84it/s]\n",
            "- dev UAS: 88.50\n",
            "New best dev UAS! Saving model.\n",
            "\n",
            "Epoch 9 out of 10\n",
            "100% 1848/1848 [02:08<00:00, 14.38it/s]\n",
            "Average Train Loss: 0.06920870334853406\n",
            "Evaluating on dev set\n",
            "1445850it [00:00, 39561703.71it/s]\n",
            "- dev UAS: 88.31\n",
            "\n",
            "Epoch 10 out of 10\n",
            "100% 1848/1848 [02:08<00:00, 14.42it/s]\n",
            "Average Train Loss: 0.06671738683838736\n",
            "Evaluating on dev set\n",
            "1445850it [00:00, 40804570.33it/s]\n",
            "- dev UAS: 88.32\n",
            "\n",
            "================================================================================\n",
            "TESTING\n",
            "================================================================================\n",
            "Restoring the best model weights found on the dev set\n",
            "Final evaluation on test set\n",
            "2919736it [00:00, 57622139.23it/s]\n",
            "- test UAS: 88.65\n",
            "Done!\n"
          ],
          "name": "stdout"
        }
      ]
    }
  ]
}